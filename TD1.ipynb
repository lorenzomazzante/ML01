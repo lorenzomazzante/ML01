{
  "cells": [
    {
      "cell_type": "markdown",
      "metadata": {
        "id": "view-in-github",
        "colab_type": "text"
      },
      "source": [
        "<a href=\"https://colab.research.google.com/github/lorenzomazzante/ML01/blob/main/TD1.ipynb\" target=\"_parent\"><img src=\"https://colab.research.google.com/assets/colab-badge.svg\" alt=\"Open In Colab\"/></a>"
      ]
    },
    {
      "cell_type": "markdown",
      "metadata": {
        "id": "9Lmsx-S1e5ii"
      },
      "source": [
        "# ML01 - TD1 : Classifieur des plus proches voisins - Exercices\n",
        "\n",
        "Réalisé par Cyprien Gilet et Khaled Belahcene"
      ]
    },
    {
      "cell_type": "markdown",
      "metadata": {
        "id": "MLVJzyRRe5ij"
      },
      "source": [
        "## Énoncé et bases de données\n",
        "On considère la base de données d'apprentissage suivante où les observations $A,\\dots,J$ sont décrites par 2 variables numériques. Chaque observation appartient à une classe $k\\in\\{1,2\\}$ (notre variable d'intérêt).\n",
        "\n",
        "| Observation | Variable 1 | Variable 2 | Classe |\n",
        "| --- | --- | --- | --- |\n",
        "| A\t| 8\t| 2\t| 1 |\n",
        "| B\t| 4\t| 5\t| 2 |\n",
        "| C\t| 4\t| 3\t| 1 |\n",
        "| D\t| 7\t| 8\t| 2 |\n",
        "| E\t| 2\t| 4\t| 1 |\n",
        "| F\t| 7\t| 4\t| 2 |\n",
        "| G\t| 1\t| 6\t| 1 |\n",
        "| H\t| 8\t| 3\t| 1 |\n",
        "| I\t| 6\t| 2\t| 1 |\n",
        "| J\t| 5\t| 8\t| 2 |\n",
        "\n",
        "L'objectif de ce TD est d'utiliser le classifieur des plus proches voisins pour prédire la classe des observations test $K,L,M$ suivantes (on suppose que les classes réelles de ces observations test sont inconnues et on souhaite les retrouver grâce au classifieur des plus proches voisins).\n",
        "\n",
        "| Observation | Variable 1 | Variable 2 | Classe |\n",
        "| --- | --- | --- | --- |\n",
        "| K\t| 4\t| 7\t| 1 |\n",
        "| L\t| 6\t| 6\t| 2 |\n",
        "| M\t| 1\t| 2\t| 1 |"
      ]
    },
    {
      "cell_type": "markdown",
      "metadata": {
        "id": "XH5snr4Qe5ik"
      },
      "source": [
        "## Partie 1. Exercice sur feuille\n",
        "\n",
        "**Question 1.1.** Représenter le nuage des points $A,\\dots,J$ dans un repère en fonction des deux variables descriptives (de sorte à bien différencier les observations appartenant à la classe 1 de celles appartenant à la classe 2).\n",
        "\n",
        "**Question 1.2.** Sur cette même figure, représenter les points $K,L,M$ et prédire leur classe avec le classifieur du plus plroche voisin (1 seul voisin). Comparer les classes prédites avec leur classe réelle."
      ]
    },
    {
      "cell_type": "markdown",
      "metadata": {
        "id": "8betc27le5ik"
      },
      "source": [
        "## Partie 2. Implémentation sur Python\n",
        "\n",
        "L'objectif de cette partie est d'implémenter l'algorithme des plus proches voisins en Python.\n",
        "Le code ci-dessous permet d'importer les librairies importantes.\n"
      ]
    },
    {
      "cell_type": "code",
      "execution_count": 50,
      "metadata": {
        "id": "xF5AkobIe5il"
      },
      "outputs": [],
      "source": [
        "import numpy as np\n",
        "import pandas as pd\n",
        "import matplotlib.pyplot as plt"
      ]
    },
    {
      "cell_type": "markdown",
      "metadata": {
        "id": "c23orBoNe5im"
      },
      "source": [
        "Le code ci-dessous définit notre base d'apprentissage et notre base de test."
      ]
    },
    {
      "cell_type": "code",
      "execution_count": 51,
      "metadata": {
        "id": "Rc-uhOble5im"
      },
      "outputs": [],
      "source": [
        "#### Base d'apprentissage :\n",
        "\n",
        "# Noms des observations\n",
        "ObsNamesTrain = np.array(['A','B','C','D','E','F','G','H','I','J'])\n",
        "\n",
        "# Variables descriptives\n",
        "XTrain = np.array([[8, 2],\n",
        "       [4, 5],\n",
        "       [4, 3],\n",
        "       [7, 8],\n",
        "       [2, 4],\n",
        "       [7, 4],\n",
        "       [1, 6],\n",
        "       [8, 3],\n",
        "       [6, 2],\n",
        "       [5, 8]])\n",
        "\n",
        "# Classes réelles (labels)\n",
        "YTrain = np.array([1,2,1,2,1,2,1,1,1,2])\n",
        "\n",
        "\n",
        "\n",
        "#### Base de Test :\n",
        "\n",
        "# Noms des observations\n",
        "ObsNamesTest = np.array(['K','L','M'])\n",
        "\n",
        "# Variables descriptives\n",
        "XTest = np.array([[4, 7],\n",
        "       [6, 6],\n",
        "       [1, 2]])\n",
        "\n",
        "# Classes réelles (labels) que l'on supposera inconnues\n",
        "YTest = np.array([1,2,1])"
      ]
    },
    {
      "cell_type": "markdown",
      "metadata": {
        "id": "gWBTWi4Ae5in"
      },
      "source": [
        "**Question 2.1.** Implémenter une fonction des $q$ plus proches voisins (qui prenne en entrés : $XTrain, YTrain, XTest$, $K$ le nombre de classes, et $q\\geq 1$ le nombre de voisins que nous souhaiterons considérer), et qui nous ressorte la classe estimée d'une seule observation de XTest. Pour cela, on pourra s'aider des fonctions Python suivantes :\n",
        "- Boucle en Python : https://wiki.python.org/moin/ForLoop\n",
        "- np.shape : (dimensions d'une matrice) : https://numpy.org/doc/stable/reference/generated/numpy.shape.html\n",
        "- np.argsort : (indices d'un vecteur trié) : https://numpy.org/doc/stable/reference/generated/numpy.argsort.html\n",
        "- np.zeros : (création d'un vecteur rempli de 0) :  https://numpy.org/doc/stable/reference/generated/numpy.zeros.html\n",
        "- np.linalg.norm : (calcul distance euclidienne) : https://numpy.org/doc/stable/reference/generated/numpy.linalg.norm.html\n",
        "- np.argmax : (indice du maximum) : https://numpy.org/doc/stable/reference/generated/numpy.argmax.html"
      ]
    },
    {
      "cell_type": "code",
      "execution_count": 52,
      "metadata": {
        "id": "O8Na7wape5in"
      },
      "outputs": [],
      "source": [
        "def function_qNN(XTrain, YTrain, XTest, K, q):\n",
        "\n",
        "  # 1) Identifier les q plus proche voisins\n",
        "  n = np.shape(XTrain)[0]\n",
        "  dist = np.zeros(n)\n",
        "\n",
        "  for i in range(n):\n",
        "      #calculo la distancia euclediana\n",
        "      distance = np.linalg.norm(XTest - XTrain[i,:])\n",
        "      dist[i] = distance\n",
        "\n",
        "  idx_q_ppv = np.argsort(dist)[0:q]\n",
        "\n",
        "  # 2) Obtener les clases des ppv\n",
        "\n",
        "  voisins_classes = YTrain[idx_q_ppv]\n",
        "\n",
        "  YTest = np.argmax(np.bincount(voisins_classes, minlength=K))\n",
        "\n",
        "  return YTest"
      ]
    },
    {
      "cell_type": "markdown",
      "metadata": {
        "id": "026zjDfre5in"
      },
      "source": [
        "**Question 2.2.** Estimer la classe des observations test $K,L,M$ à l'aide de la fonction *function_qNN* en considérant $q=1$ voisin. Comparer ces estimations avec celles obtenues en Question 1.2 puis avec les classes réelles."
      ]
    },
    {
      "cell_type": "code",
      "execution_count": 53,
      "metadata": {
        "id": "hhAbtsRxe5io",
        "colab": {
          "base_uri": "https://localhost:8080/"
        },
        "outputId": "943df0a9-424c-479a-be59-00b311a324a9"
      },
      "outputs": [
        {
          "output_type": "stream",
          "name": "stdout",
          "text": [
            "2\n",
            "2\n",
            "1\n"
          ]
        }
      ],
      "source": [
        "k = 2\n",
        "q = 1\n",
        "\n",
        "for i in range(XTest.shape[0]):\n",
        "  YTest = function_qNN(XTrain, YTrain, XTest[i], k, q)\n",
        "  print (YTest)"
      ]
    },
    {
      "cell_type": "markdown",
      "metadata": {
        "id": "ctXK4iI3e5io"
      },
      "source": [
        "**Question 2.3.** Compiler le code ci-dessous pour afficher les frontières de décision obtenues avec la fonction *function_qNN* (en augmentant le nombre de voisins $q$)."
      ]
    },
    {
      "cell_type": "code",
      "execution_count": 54,
      "metadata": {
        "colab": {
          "base_uri": "https://localhost:8080/",
          "height": 657
        },
        "id": "gVqYvPHQe5io",
        "outputId": "2a1f23cc-1712-49e0-e3c5-60bb01f85fb2"
      },
      "outputs": [
        {
          "output_type": "display_data",
          "data": {
            "text/plain": [
              "<Figure size 750x700 with 1 Axes>"
            ],
            "image/png": "[encoded data removed]"
          },
          "metadata": {}
        }
      ],
      "source": [
        "K = 2 #Nombre de classes\n",
        "\n",
        "q = 5 #Nombre de voisins\n",
        "\n",
        "\n",
        "def make_meshgrid(x, y, h=.1):\n",
        "    x_min, x_max = x.min() - 1, x.max() + 1\n",
        "    y_min, y_max = y.min() - 1, y.max() + 1\n",
        "    xx, yy = np.meshgrid(np.arange(x_min, x_max, h), np.arange(y_min, y_max, h))\n",
        "    return xx, yy\n",
        "\n",
        "\n",
        "xx1, xx2 = make_meshgrid(XTrain[:,0], XTrain[:,1])\n",
        "XXgrid = np.c_[xx1.ravel(), xx2.ravel()]\n",
        "Z = np.zeros((1, XXgrid.shape[0]))\n",
        "for i in range(0, XXgrid.shape[0]):\n",
        "    Z[0,i] = function_qNN(XTrain, YTrain, XXgrid[i,:], K, q)\n",
        "Z = Z.reshape(xx1.shape)\n",
        "\n",
        "\n",
        "figScatter = plt.figure(figsize=(7.5,7))\n",
        "ax = figScatter.add_subplot(1,1,1)\n",
        "out = ax.contourf(xx1, xx2, Z, alpha=0.2)\n",
        "ax.scatter(XTrain[(np.where(YTrain==1)[0]),0].tolist(), XTrain[(np.where(YTrain==1)[0]),1].tolist(), color='purple', marker='*', label='Train : C1',s=150)\n",
        "ax.scatter(XTrain[(np.where(YTrain==2)[0]),0].tolist(), XTrain[(np.where(YTrain==2)[0]),1].tolist(), color='orange', marker='*', label='Train : C2',s=150)\n",
        "ax.scatter(XTest[:,0].tolist(), XTest[:,1].tolist(), color='blue', marker='o', label='Test samples',s=150)\n",
        "ax.legend(fontsize=15, loc='upper left')\n",
        "ax.scatter(XTrain[(np.where(YTrain==1)[0]),0].tolist(), XTrain[(np.where(YTrain==1)[0]),1].tolist(), color='purple', marker='*', label='Class 1',s=150)\n",
        "ax.scatter(XTrain[(np.where(YTrain==2)[0]),0].tolist(), XTrain[(np.where(YTrain==2)[0]),1].tolist(), color='orange', marker='*', label='Class 2',s=150)\n",
        "ax.set_xlabel(\"Variable 1\",fontsize=16)\n",
        "ax.set_ylabel(\"Variable 2\",fontsize=16)\n",
        "ax.set_xticks(np.arange(1,9,1))\n",
        "ax.set_yticks(np.arange(1,9,1))\n",
        "ax.set_title(\"Frontière de décision obtenue par le classifieur qNN\",fontsize=16)\n",
        "ax.tick_params(axis='x', labelsize=16)\n",
        "ax.tick_params(axis='y', labelsize=16)\n",
        "ax.grid()"
      ]
    },
    {
      "cell_type": "markdown",
      "metadata": {
        "id": "2dn1swMNe5ip"
      },
      "source": [
        "## Partie 3. Utilisation de Scikit-Learn\n",
        "\n",
        "L'objectif de cette partie est d'utiliser l'algorithme des plus proches voisins proposé par Scikit-Learn.\n",
        "Plus d'informations sont disponibles ici : https://scikit-learn.org/stable/modules/generated/sklearn.neighbors.KNeighborsClassifier.html#sklearn.neighbors.KNeighborsClassifier\n",
        "\n",
        "**Question 3.1.** Appliquer l'algorithme des plus proches voisins proposé par Scikit-Learn sur les trois observations test $K,L,M$ puis comparer les résultats avec ceux obtenus par votre fonction précédente puis avec les classes réelles."
      ]
    },
    {
      "cell_type": "code",
      "execution_count": 42,
      "metadata": {
        "colab": {
          "base_uri": "https://localhost:8080/"
        },
        "id": "FtAny-WPe5ip",
        "outputId": "48736a06-bbca-4887-99da-dc839358ad15"
      },
      "outputs": [
        {
          "output_type": "stream",
          "name": "stdout",
          "text": [
            "[2 2 1]\n"
          ]
        }
      ],
      "source": [
        "k=2\n",
        "q=1\n",
        "\n",
        "from sklearn.neighbors import KNeighborsClassifier\n",
        "\n",
        "neigh = KNeighborsClassifier(n_neighbors = q)\n",
        "neigh.fit(XTrain, YTrain)\n",
        "print(neigh.predict(XTest))"
      ]
    },
    {
      "cell_type": "markdown",
      "metadata": {
        "id": "ibh46M2Pe5ip"
      },
      "source": [
        "## Partie 4. Classifieur Euclidien\n",
        "\n",
        "Si vous avez le temps, refaire toutes les questions précédentes avec le classifieur Euclidien.\n",
        "Concernant la fonction Scikit-Learn, plus d'informations sont disponibles ici : https://scikit-learn.org/stable/modules/generated/sklearn.neighbors.NearestCentroid.html#sklearn.neighbors.NearestCentroid"
      ]
    },
    {
      "cell_type": "code",
      "execution_count": 58,
      "metadata": {
        "id": "FjYEaFUWe5ip"
      },
      "outputs": [],
      "source": [
        "def function_CEuclidien(XTrain, YTrain, XTest, K):\n",
        "  n = np.shape(XTrain)[0]\n",
        "\n",
        "  # 1) Identifier les centroides\n",
        "  centroides = np.zeros((K, np.shape(XTrain)[1]))\n",
        "  for i in range(K):\n",
        "    centroides[i,:] = np.mean(XTrain[np.where(YTrain==i+1)[0],:], axis=0)\n",
        "  print(centroides)\n",
        "\n",
        "  # 2) Determinar el centroide mas cercano\n",
        "  dist = np.zeros(K)\n",
        "  for i in range(K):\n",
        "    dist[i] = np.linalg.norm(XTest - centroides[i,:])\n",
        "  print (dist)\n",
        "\n",
        "  YTest = np.argmin(dist) + 1\n",
        "  return YTest\n",
        ""
      ]
    },
    {
      "cell_type": "code",
      "execution_count": 61,
      "metadata": {
        "id": "mokGTeJ8e5ip",
        "colab": {
          "base_uri": "https://localhost:8080/"
        },
        "outputId": "b9c40642-bf83-45b7-8d53-02ce153b14e8"
      },
      "outputs": [
        {
          "output_type": "stream",
          "name": "stdout",
          "text": [
            "[[4.83333333 3.33333333]\n",
            " [5.75       6.25      ]]\n",
            "[3.76017139 1.90394328]\n",
            "2\n",
            "[[4.83333333 3.33333333]\n",
            " [5.75       6.25      ]]\n",
            "[2.9107082  0.35355339]\n",
            "2\n",
            "[[4.83333333 3.33333333]\n",
            " [5.75       6.25      ]]\n",
            "[4.05859855 6.37377439]\n",
            "1\n"
          ]
        }
      ],
      "source": [
        "#Tryion in te the last function\n",
        "for i in range(XTest.shape[0]):\n",
        "  YTest = function_CEuclidien(XTrain, YTrain, XTest[i], K)\n",
        "  print (YTest)"
      ]
    }
  ],
  "metadata": {
    "kernelspec": {
      "display_name": "Python 3 (ipykernel)",
      "language": "python",
      "name": "python3"
    },
    "language_info": {
      "codemirror_mode": {
        "name": "ipython",
        "version": 3
      },
      "file_extension": ".py",
      "mimetype": "text/x-python",
      "name": "python",
      "nbconvert_exporter": "python",
      "pygments_lexer": "ipython3",
      "version": "3.11.4"
    },
    "colab": {
      "provenance": [],
      "include_colab_link": true
    }
  },
  "nbformat": 4,
  "nbformat_minor": 0
}