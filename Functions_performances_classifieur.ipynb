{
  "cells": [
    {
      "cell_type": "markdown",
      "metadata": {
        "id": "view-in-github",
        "colab_type": "text"
      },
      "source": [
        "<a href=\"https://colab.research.google.com/github/lorenzomazzante/ML01/blob/main/Functions_performances_classifieur.ipynb\" target=\"_parent\"><img src=\"https://colab.research.google.com/assets/colab-badge.svg\" alt=\"Open In Colab\"/></a>"
      ]
    },
    {
      "cell_type": "markdown",
      "metadata": {
        "id": "plDXT7bYm3h5"
      },
      "source": [
        "# ML01 : Fonctions - Performances d'un classifieur"
      ]
    },
    {
      "cell_type": "code",
      "execution_count": 21,
      "metadata": {
        "id": "Js4fkXUXm3h8"
      },
      "outputs": [],
      "source": [
        "import matplotlib.pyplot as plt\n",
        "import numpy as np\n",
        "import pandas as pd"
      ]
    },
    {
      "cell_type": "markdown",
      "metadata": {
        "id": "K81DT3Nmm3h9"
      },
      "source": [
        "L'objectif est d'implémenter l'ensemble des fonctions ci-dessous. Pour donner un exemple des paramètres que chaque fonction pourra considérer, vous pouvez par exemple considerer l'exemple de valeurs ci-dessous."
      ]
    },
    {
      "cell_type": "code",
      "execution_count": 22,
      "metadata": {
        "colab": {
          "base_uri": "https://localhost:8080/"
        },
        "id": "GwZv5Owmm3h9",
        "outputId": "89d2ff25-42fe-46a0-e243-7bc3ecb2e44f"
      },
      "outputs": [
        {
          "output_type": "stream",
          "name": "stdout",
          "text": [
            "Y_set = [1, 2, 3]\n",
            "YR = [1 2 1 3 3 1 1 2]\n",
            "Yhat = [1 1 1 2 3 3 1 2]\n",
            "L = [[0. 1. 4.]\n",
            " [1. 0. 1.]\n",
            " [4. 1. 0.]]\n"
          ]
        }
      ],
      "source": [
        "Y_set = [1,2,3] # Liste de toutes les classes possibles\n",
        "YR = np.array([1,2,1,3,3,1,1,2]) # vecteurs des classes réelles pour chaque observation\n",
        "Yhat = np.array([1,1,1,2,3,3,1,2]) # vecteurs des classes prédites pour chaque observation\n",
        "# Exemple avec fonction de perte quadratique :\n",
        "K = len(Y_set)\n",
        "L = np.zeros((K,K))\n",
        "for k in range(K):\n",
        "    for l in range(K):\n",
        "        L[k,l] = (l-k)*(l-k)\n",
        "\n",
        "print('Y_set =', Y_set)\n",
        "print('YR =', YR)\n",
        "print('Yhat =', Yhat)\n",
        "print('L =', L)"
      ]
    },
    {
      "cell_type": "markdown",
      "metadata": {
        "id": "QUiSfgJ6m3h-"
      },
      "source": [
        "## Implémentation des fonctions :"
      ]
    },
    {
      "cell_type": "markdown",
      "metadata": {
        "id": "-voEW4dAm3h-"
      },
      "source": [
        "Risque d'erreur empirique moyen :"
      ]
    },
    {
      "cell_type": "code",
      "execution_count": 23,
      "metadata": {
        "id": "WFSpGsIWm3h-"
      },
      "outputs": [],
      "source": [
        "def compute_average_risk(YR, Yhat, Y_set, L):\n",
        "    '''\n",
        "    Parameters\n",
        "    ----------\n",
        "    YR : DataFrame\n",
        "        Real labels.\n",
        "    Yhat : Array\n",
        "        Predicted labels.\n",
        "    Y_set : list\n",
        "        List of all possible classes\n",
        "    L : Array\n",
        "        Loss Function.\n",
        "\n",
        "    Returns\n",
        "    -------\n",
        "    r : float\n",
        "        Global risk.\n",
        "    '''\n",
        "    K = len(Y_set)\n",
        "    n = len(YR)\n",
        "\n",
        "    R = compute_risk_per_class(YR, Yhat, Y_set, L)\n",
        "\n",
        "    pi = np.zeros(K)\n",
        "    for idx_k in range (K):\n",
        "      k = Y_set[idx_k]\n",
        "      pi[idx_k] = np.sum(YR==k)/n\n",
        "\n",
        "    r = np.dot(pi,R)\n",
        "\n",
        "    return r"
      ]
    },
    {
      "cell_type": "markdown",
      "metadata": {
        "id": "ziLlWmwmm3h_"
      },
      "source": [
        "Accuracy globale :"
      ]
    },
    {
      "cell_type": "code",
      "execution_count": 24,
      "metadata": {
        "id": "mPjJyoEMm3h_"
      },
      "outputs": [],
      "source": [
        "def compute_accuracy(YR, Yhat):\n",
        "    '''\n",
        "    Parameters\n",
        "    ----------\n",
        "    YR : DataFrame\n",
        "        Real labels.\n",
        "    Yhat : Array\n",
        "        Predicted labels.\n",
        "\n",
        "    Returns\n",
        "    -------\n",
        "    Acc : float\n",
        "        Accuracy.\n",
        "    '''\n",
        "    n = len(YR)\n",
        "    Acc = np.sum(YR==Yhat)/n\n",
        "    return Acc"
      ]
    },
    {
      "cell_type": "markdown",
      "metadata": {
        "id": "yFJrazXvm3iA"
      },
      "source": [
        "Accuracy par classe :"
      ]
    },
    {
      "cell_type": "code",
      "execution_count": 25,
      "metadata": {
        "id": "MEIGV6qfm3iA"
      },
      "outputs": [],
      "source": [
        "def compute_accuracy_per_class(YR, Yhat, Y_set):\n",
        "    '''\n",
        "    Parameters\n",
        "    ----------\n",
        "    YR : DataFrame\n",
        "        Real labels.\n",
        "    Yhat : Array\n",
        "        Predicted labels.\n",
        "    Y_set : list\n",
        "        List of all possible classes\n",
        "\n",
        "    Returns\n",
        "    -------\n",
        "    Acc_per_class : Array\n",
        "        Accuracies per class\n",
        "    '''\n",
        "\n",
        "    K = len(Y_set)\n",
        "    Acc_per_class = np.zeros(K)\n",
        "\n",
        "    for idx_k in range (K):\n",
        "      k = Y_set[idx_k]\n",
        "      n_k = np.sum(YR==k)\n",
        "      Ik = np.where(YR==k)[0]\n",
        "\n",
        "      Acc_per_class[idx_k] = np.sum(Yhat[Ik]==k)/n_k\n",
        "\n",
        "    return Acc_per_class"
      ]
    },
    {
      "cell_type": "markdown",
      "metadata": {
        "id": "oMqLtTOwm3iA"
      },
      "source": [
        "Matrice de confusion :"
      ]
    },
    {
      "cell_type": "code",
      "execution_count": 26,
      "metadata": {
        "id": "3OnUVSoYm3iA"
      },
      "outputs": [],
      "source": [
        "def compute_confusion_matrix(YR, Yhat, Y_set):\n",
        "    '''\n",
        "    Parameters\n",
        "    ----------\n",
        "    YR : DataFrame\n",
        "        Real labels.\n",
        "    Yhat : Array\n",
        "        Predicted labels.\n",
        "    K : int\n",
        "        Number of classes.\n",
        "\n",
        "    Returns\n",
        "    -------\n",
        "    confmat : Array\n",
        "        Confusio Matrix\n",
        "    '''\n",
        "    K = len(Y_set)\n",
        "    confmat = np.zeros((K,K))\n",
        "\n",
        "    for idx_k in range (K):\n",
        "      k = Y_set[idx_k]\n",
        "      nk = np.sum(YR==k)\n",
        "      Ik = np.where(YR==k)[0]\n",
        "\n",
        "      for idx_l in range (K):\n",
        "        l = Y_set[idx_l]\n",
        "        confmat[idx_k,idx_l] = np.sum(Yhat[Ik]==l)/nk\n",
        "\n",
        "    return confmat"
      ]
    },
    {
      "cell_type": "markdown",
      "metadata": {
        "id": "yAOGWuRIm3iB"
      },
      "source": [
        "Risques d'erreurs par classe :"
      ]
    },
    {
      "cell_type": "code",
      "execution_count": 27,
      "metadata": {
        "id": "-1wejFMEm3iB"
      },
      "outputs": [],
      "source": [
        "def compute_risk_per_class(YR, Yhat, Y_set, L):\n",
        "    '''\n",
        "    Parameters\n",
        "    ----------\n",
        "    YR : DataFrame\n",
        "        Real labels.\n",
        "    Yhat : Array\n",
        "        Predicted labels.\n",
        "    Y_set : list\n",
        "        List of all possible classes\n",
        "    L : Array\n",
        "        Loss Function.\n",
        "\n",
        "    Returns\n",
        "    -------\n",
        "    R : Array of floats\n",
        "        Conditional risks.\n",
        "    '''\n",
        "\n",
        "    K = len(Y_set)\n",
        "    R = np.zeros(K)\n",
        "\n",
        "    confmat = compute_confusion_matrix(YR, Yhat, Y_set)\n",
        "\n",
        "    for idx_k in range (K):\n",
        "      R[idx_k] = np.dot(L[idx_k,:],confmat[idx_k,:])\n",
        "\n",
        "    return R"
      ]
    },
    {
      "cell_type": "code",
      "execution_count": 28,
      "metadata": {
        "colab": {
          "base_uri": "https://localhost:8080/"
        },
        "id": "yEF0uVdpm3iB",
        "outputId": "8583ab48-e886-49a9-c79e-b585f0434607"
      },
      "outputs": [
        {
          "output_type": "stream",
          "name": "stdout",
          "text": [
            "Risque d'erreur empirique moyen : 0.75\n",
            "Accuracy globale : 0.625\n",
            "Accuracy par classe : [0.75 0.5  0.5 ]\n",
            "Matrice de confusion: \n",
            " [[0.75 0.   0.25]\n",
            " [0.5  0.5  0.  ]\n",
            " [0.   0.5  0.5 ]]\n",
            "Risques d'erreurs par classe : [1.  0.5 0.5]\n"
          ]
        }
      ],
      "source": [
        "print('Risque d\\'erreur empirique moyen :', compute_average_risk(YR, Yhat, Y_set, L))\n",
        "print('Accuracy globale :', compute_accuracy(YR, Yhat))\n",
        "print('Accuracy par classe :', compute_accuracy_per_class(YR, Yhat, Y_set))\n",
        "print('Matrice de confusion: \\n', compute_confusion_matrix(YR, Yhat, Y_set))\n",
        "print('Risques d\\'erreurs par classe :', compute_risk_per_class(YR, Yhat, Y_set, L))\n"
      ]
    }
  ],
  "metadata": {
    "kernelspec": {
      "display_name": "Python 3",
      "language": "python",
      "name": "python3"
    },
    "language_info": {
      "codemirror_mode": {
        "name": "ipython",
        "version": 3
      },
      "file_extension": ".py",
      "mimetype": "text/x-python",
      "name": "python",
      "nbconvert_exporter": "python",
      "pygments_lexer": "ipython3",
      "version": "3.13.7"
    },
    "colab": {
      "provenance": [],
      "include_colab_link": true
    }
  },
  "nbformat": 4,
  "nbformat_minor": 0
}