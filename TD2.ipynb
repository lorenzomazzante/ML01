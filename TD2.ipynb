{
  "cells": [
    {
      "cell_type": "markdown",
      "metadata": {
        "id": "view-in-github",
        "colab_type": "text"
      },
      "source": [
        "<a href=\"https://colab.research.google.com/github/lorenzomazzante/ML01/blob/main/TD2.ipynb\" target=\"_parent\"><img src=\"https://colab.research.google.com/assets/colab-badge.svg\" alt=\"Open In Colab\"/></a>"
      ]
    },
    {
      "cell_type": "markdown",
      "metadata": {
        "id": "W9G_2iv5e_dg"
      },
      "source": [
        "# ML01 : Génération de Données et Estimastion du Classifieur de Bayes"
      ]
    },
    {
      "cell_type": "code",
      "execution_count": 1,
      "metadata": {
        "id": "fPVJYrU4e_dh"
      },
      "outputs": [],
      "source": [
        "import numpy as np\n",
        "import pandas as pd\n",
        "import matplotlib.pyplot as plt\n",
        "from sklearn import datasets\n",
        "import scipy.stats as stats\n",
        "\n",
        "## Permet la reproducibilité des résultats\n",
        "np.random.seed(10)"
      ]
    },
    {
      "cell_type": "markdown",
      "metadata": {
        "id": "NcsNUPQOe_di"
      },
      "source": [
        "## Exercice 1. Générations de données par densité Gaussienne et classifieur de Bayes\n",
        "\n",
        "L'objectif de cet exercice est de déterminer le classifieur de Bayes permettant de diagnostiquer une maladie à partir d'une seule variable : la température d'un patient. Pour la suite, la classe 1 caractérisera les patients sains et la classe 2 caractérisera les patients malades.\n",
        "\n",
        "- On considèrera que la densité de distribution caractérisant les patients sains est une Gaussienne de moyenne $\\mu_1$ et de variance $\\sigma_1^2$.\n",
        "- De même, on considèrera que la densité de distribution caractérisant les patients malades est une Gaussienne de moyenne $\\mu_2$ et de variance $\\sigma_2^2$.\n",
        "\n",
        "Autrement dit, pour chaque classe $k\\in\\{1,2\\}$, on a\n",
        "\\begin{equation}\n",
        "f_{X|Y=k}(x) = \\frac{1}{\\sigma_k \\sqrt{2\\pi}} \\, \\mathrm{exp}\\left( -\\frac{(x-\\mu_k)^2}{2\\sigma_k^2}\\right).\n",
        "\\end{equation}\n",
        "\n",
        "Pour des soucis de concision nous pourrons utiliser les notations $f_{1}$ et $f_{2}$ à la place de $f_{X|Y=1}$ et $f_{X|Y=2}$"
      ]
    },
    {
      "cell_type": "markdown",
      "metadata": {
        "id": "bDbW6zUMe_dj"
      },
      "source": [
        "### Question 1 : Générations d'une base d'apprentissage\n",
        "\n",
        "L'objectif de cette question est de générer aléatoirement une base d'apprentissage à partir des densités de distributions de chaque classe.\n",
        "Pour la suite, $X_i$ caractérisera la variable aléatoire caractérisant la température (le profil) d'un patient $i$, et $Y_i$ la variable aléatoire caractérisant sa classe.\n",
        "De même, on considèrera que la probabilité à priori qu'un patient soit malade est égale à $p := \\mathbb{P}\\left(Y^{(i)} = 2\\right)$.\n",
        "\n",
        "\n",
        "- **Probabilités de générer un patient dans chaque classe**\n",
        "    1. Déterminer analytiquement la fonction de densité de distribution $f_X(x)$ de la variable aléatoire $X$ en fonction de $p$, $f_1(x)$  et $f_2(x)$.\n",
        "    2. Déterminer ensuite analytiquement la probabilité qu'un patient $i$ soit sain sachant que sa température est $X^{(i)} = x^{(i)}$.\n",
        "    De même, déterminer analytiquement la probabilité qu'un patient $i$ soit malade sachant que sa température est $X^{(i)} = x^{(i)}$.\n",
        "\n",
        "  *Réponses aux questions 1. et 2.*\n",
        "    1. ...\n",
        "    2. ..."
      ]
    },
    {
      "cell_type": "markdown",
      "metadata": {
        "id": "kUrIQjYne_dj"
      },
      "source": [
        "- **Génération de la base de données simulée**\n",
        "    \n",
        "     On considère dans cette question que les paramètres des deux lois gaussiennes sont donnés par $\\mu_1 = 37.8$, $\\mu_2 = 39$, $\\sigma_1 = 0.4$, $\\sigma_2 = 0.2$. On considère également que la probabilité à priori qu'un patient soit malade est égale à $p = \\mathbb{P}\\left(Y^{(i)} = 2\\right) = 0.2$.\n",
        "\n",
        "    - À partir de la variable aléatoire température, générer $n_1 = 80$ patients dans la classe 1 et $n_2 = 20$ patients dans la classe 2. Pour chaque patient de la classe 1, le profil $X^{(i)}$ sera généré aléatoirement suivant la loi $\\mathcal{N}\\left(\\mu_1,\\sigma_1^2\\right)$. Pour chaque patient de la classe 2, le profil $X^{(i)}$ sera généré aléatoirement suivant la loi $\\mathcal{N}\\left(\\mu_2,\\sigma_2^2\\right)$\n",
        "    - Tracer les fonctions de densité $f_1(x)$ et $f_2(x)$ sur une même figure.\n",
        "    - Afficher l'ensemble des patients sur cette même figure (sur l'axe des abscisses) de sorte que l'on visualise bien ceux de la classe 1 et ceux de la classe 2.\n",
        "\n",
        "Pour la suite, cette base de données que nous venons de générer correspondra à notre base d'apprentissage, qui a été générée à partir des paramètres $\\mu_1, \\mu_2, \\sigma_1, \\sigma_2$ connus."
      ]
    },
    {
      "cell_type": "code",
      "execution_count": 45,
      "metadata": {
        "colab": {
          "base_uri": "https://localhost:8080/"
        },
        "id": "IA3YizaHe_dk",
        "outputId": "d23ec000-cd64-4f40-8273-e9d87a38f52b"
      },
      "outputs": [
        {
          "output_type": "execute_result",
          "data": {
            "text/plain": [
              "100"
            ]
          },
          "metadata": {},
          "execution_count": 45
        }
      ],
      "source": [
        "# RÉPONSE À LA QUESTION:\n",
        "mu1 = 37.8\n",
        "mu2 = 39\n",
        "sigma1 = 0.4\n",
        "sigma2 = 0.2\n",
        "p = 0.2\n",
        "n1 = 80\n",
        "n2 = 20\n",
        "\n",
        "X = np.zeros((n1+n2,1))\n",
        "X1 = np.random.normal(mu1,sigma1,n1)\n",
        "X2 = np.random.normal(mu2,sigma2,n2)\n",
        "X[0:n1,0] = X1\n",
        "X[n1:,0] = X2\n",
        "y = np.zeros((n1+n2,1))\n",
        "y[0:n1,0] = 1\n",
        "y[n1:,0] = 2"
      ]
    },
    {
      "cell_type": "code",
      "execution_count": 38,
      "metadata": {
        "colab": {
          "base_uri": "https://localhost:8080/",
          "height": 921
        },
        "id": "ihKoL_O7e_dk",
        "outputId": "1db3af9b-649a-4e73-a55f-1f3fa6b184c4"
      },
      "outputs": [
        {
          "output_type": "error",
          "ename": "ValueError",
          "evalue": "x and y must be the same size",
          "traceback": [
            "\u001b[0;31m---------------------------------------------------------------------------\u001b[0m",
            "\u001b[0;31mValueError\u001b[0m                                Traceback (most recent call last)",
            "\u001b[0;32m/tmp/ipython-input-2646856330.py\u001b[0m in \u001b[0;36m<cell line: 0>\u001b[0;34m()\u001b[0m\n\u001b[1;32m     32\u001b[0m     \u001b[0max\u001b[0m\u001b[0;34m.\u001b[0m\u001b[0mset\u001b[0m\u001b[0;34m(\u001b[0m\u001b[0mylim\u001b[0m\u001b[0;34m=\u001b[0m\u001b[0;34m(\u001b[0m\u001b[0;34m-\u001b[0m\u001b[0;36m0.1\u001b[0m\u001b[0;34m,\u001b[0m \u001b[0mnp\u001b[0m\u001b[0;34m.\u001b[0m\u001b[0mmaximum\u001b[0m\u001b[0;34m(\u001b[0m\u001b[0mnp\u001b[0m\u001b[0;34m.\u001b[0m\u001b[0mmax\u001b[0m\u001b[0;34m(\u001b[0m\u001b[0mdensity1\u001b[0m\u001b[0;34m)\u001b[0m\u001b[0;34m,\u001b[0m\u001b[0mnp\u001b[0m\u001b[0;34m.\u001b[0m\u001b[0mmax\u001b[0m\u001b[0;34m(\u001b[0m\u001b[0mdensity2\u001b[0m\u001b[0;34m)\u001b[0m\u001b[0;34m)\u001b[0m\u001b[0;34m+\u001b[0m\u001b[0;36m0.1\u001b[0m\u001b[0;34m)\u001b[0m\u001b[0;34m)\u001b[0m\u001b[0;34m\u001b[0m\u001b[0;34m\u001b[0m\u001b[0m\n\u001b[1;32m     33\u001b[0m \u001b[0;34m\u001b[0m\u001b[0m\n\u001b[0;32m---> 34\u001b[0;31m \u001b[0mPlot_densities\u001b[0m\u001b[0;34m(\u001b[0m\u001b[0mmu1\u001b[0m\u001b[0;34m,\u001b[0m \u001b[0msigma1\u001b[0m\u001b[0;34m,\u001b[0m \u001b[0mmu2\u001b[0m\u001b[0;34m,\u001b[0m \u001b[0msigma2\u001b[0m\u001b[0;34m,\u001b[0m \u001b[0mX\u001b[0m\u001b[0;34m,\u001b[0m \u001b[0my\u001b[0m\u001b[0;34m)\u001b[0m\u001b[0;34m\u001b[0m\u001b[0;34m\u001b[0m\u001b[0m\n\u001b[0m",
            "\u001b[0;32m/tmp/ipython-input-2646856330.py\u001b[0m in \u001b[0;36mPlot_densities\u001b[0;34m(mu1, sigma1, mu2, sigma2, X, y)\u001b[0m\n\u001b[1;32m     21\u001b[0m     \u001b[0max\u001b[0m\u001b[0;34m.\u001b[0m\u001b[0maxhline\u001b[0m\u001b[0;34m(\u001b[0m\u001b[0;36m0\u001b[0m\u001b[0;34m,\u001b[0m\u001b[0mcolor\u001b[0m\u001b[0;34m=\u001b[0m\u001b[0;34m'black'\u001b[0m\u001b[0;34m)\u001b[0m\u001b[0;34m\u001b[0m\u001b[0;34m\u001b[0m\u001b[0m\n\u001b[1;32m     22\u001b[0m     \u001b[0;31m#Tracé des échantillons par classe\u001b[0m\u001b[0;34m\u001b[0m\u001b[0;34m\u001b[0m\u001b[0m\n\u001b[0;32m---> 23\u001b[0;31m     \u001b[0max\u001b[0m\u001b[0;34m.\u001b[0m\u001b[0mscatter\u001b[0m\u001b[0;34m(\u001b[0m\u001b[0mX\u001b[0m\u001b[0;34m[\u001b[0m\u001b[0mnp\u001b[0m\u001b[0;34m.\u001b[0m\u001b[0mwhere\u001b[0m\u001b[0;34m(\u001b[0m\u001b[0my\u001b[0m\u001b[0;34m==\u001b[0m\u001b[0;36m1\u001b[0m\u001b[0;34m)\u001b[0m\u001b[0;34m,\u001b[0m\u001b[0;36m0\u001b[0m\u001b[0;34m]\u001b[0m\u001b[0;34m.\u001b[0m\u001b[0mtolist\u001b[0m\u001b[0;34m(\u001b[0m\u001b[0;34m)\u001b[0m\u001b[0;34m,\u001b[0m \u001b[0;34m[\u001b[0m\u001b[0;36m0\u001b[0m\u001b[0;34m]\u001b[0m\u001b[0;34m*\u001b[0m\u001b[0mn1\u001b[0m\u001b[0;34m,\u001b[0m \u001b[0mcolor\u001b[0m\u001b[0;34m=\u001b[0m\u001b[0;34m'deepskyblue'\u001b[0m\u001b[0;34m,\u001b[0m \u001b[0mmarker\u001b[0m\u001b[0;34m=\u001b[0m\u001b[0;34m'.'\u001b[0m\u001b[0;34m,\u001b[0m \u001b[0mlabel\u001b[0m\u001b[0;34m=\u001b[0m\u001b[0;34m'Class 1'\u001b[0m\u001b[0;34m,\u001b[0m\u001b[0ms\u001b[0m\u001b[0;34m=\u001b[0m\u001b[0;36m200\u001b[0m\u001b[0;34m)\u001b[0m\u001b[0;34m\u001b[0m\u001b[0;34m\u001b[0m\u001b[0m\n\u001b[0m\u001b[1;32m     24\u001b[0m     \u001b[0max\u001b[0m\u001b[0;34m.\u001b[0m\u001b[0mscatter\u001b[0m\u001b[0;34m(\u001b[0m\u001b[0mX\u001b[0m\u001b[0;34m[\u001b[0m\u001b[0mnp\u001b[0m\u001b[0;34m.\u001b[0m\u001b[0mwhere\u001b[0m\u001b[0;34m(\u001b[0m\u001b[0my\u001b[0m\u001b[0;34m==\u001b[0m\u001b[0;36m2\u001b[0m\u001b[0;34m)\u001b[0m\u001b[0;34m,\u001b[0m\u001b[0;36m0\u001b[0m\u001b[0;34m]\u001b[0m\u001b[0;34m.\u001b[0m\u001b[0mtolist\u001b[0m\u001b[0;34m(\u001b[0m\u001b[0;34m)\u001b[0m\u001b[0;34m,\u001b[0m \u001b[0;34m[\u001b[0m\u001b[0;36m0\u001b[0m\u001b[0;34m]\u001b[0m\u001b[0;34m*\u001b[0m\u001b[0mn2\u001b[0m\u001b[0;34m,\u001b[0m \u001b[0mcolor\u001b[0m\u001b[0;34m=\u001b[0m\u001b[0;34m'red'\u001b[0m\u001b[0;34m,\u001b[0m \u001b[0mmarker\u001b[0m\u001b[0;34m=\u001b[0m\u001b[0;34m'.'\u001b[0m\u001b[0;34m,\u001b[0m \u001b[0mlabel\u001b[0m\u001b[0;34m=\u001b[0m\u001b[0;34m'Class 2'\u001b[0m\u001b[0;34m,\u001b[0m\u001b[0ms\u001b[0m\u001b[0;34m=\u001b[0m\u001b[0;36m200\u001b[0m\u001b[0;34m)\u001b[0m\u001b[0;34m\u001b[0m\u001b[0;34m\u001b[0m\u001b[0m\n\u001b[1;32m     25\u001b[0m     \u001b[0;31m#Legendes\u001b[0m\u001b[0;34m\u001b[0m\u001b[0;34m\u001b[0m\u001b[0m\n",
            "\u001b[0;32m/usr/local/lib/python3.12/dist-packages/matplotlib/_api/deprecation.py\u001b[0m in \u001b[0;36mwrapper\u001b[0;34m(*args, **kwargs)\u001b[0m\n\u001b[1;32m    451\u001b[0m                 \u001b[0;34m\"parameter will become keyword-only in %(removal)s.\"\u001b[0m\u001b[0;34m,\u001b[0m\u001b[0;34m\u001b[0m\u001b[0;34m\u001b[0m\u001b[0m\n\u001b[1;32m    452\u001b[0m                 name=name, obj_type=f\"parameter of {func.__name__}()\")\n\u001b[0;32m--> 453\u001b[0;31m         \u001b[0;32mreturn\u001b[0m \u001b[0mfunc\u001b[0m\u001b[0;34m(\u001b[0m\u001b[0;34m*\u001b[0m\u001b[0margs\u001b[0m\u001b[0;34m,\u001b[0m \u001b[0;34m**\u001b[0m\u001b[0mkwargs\u001b[0m\u001b[0;34m)\u001b[0m\u001b[0;34m\u001b[0m\u001b[0;34m\u001b[0m\u001b[0m\n\u001b[0m\u001b[1;32m    454\u001b[0m \u001b[0;34m\u001b[0m\u001b[0m\n\u001b[1;32m    455\u001b[0m     \u001b[0;31m# Don't modify *func*'s signature, as boilerplate.py needs it.\u001b[0m\u001b[0;34m\u001b[0m\u001b[0;34m\u001b[0m\u001b[0m\n",
            "\u001b[0;32m/usr/local/lib/python3.12/dist-packages/matplotlib/__init__.py\u001b[0m in \u001b[0;36minner\u001b[0;34m(ax, data, *args, **kwargs)\u001b[0m\n\u001b[1;32m   1519\u001b[0m     \u001b[0;32mdef\u001b[0m \u001b[0minner\u001b[0m\u001b[0;34m(\u001b[0m\u001b[0max\u001b[0m\u001b[0;34m,\u001b[0m \u001b[0;34m*\u001b[0m\u001b[0margs\u001b[0m\u001b[0;34m,\u001b[0m \u001b[0mdata\u001b[0m\u001b[0;34m=\u001b[0m\u001b[0;32mNone\u001b[0m\u001b[0;34m,\u001b[0m \u001b[0;34m**\u001b[0m\u001b[0mkwargs\u001b[0m\u001b[0;34m)\u001b[0m\u001b[0;34m:\u001b[0m\u001b[0;34m\u001b[0m\u001b[0;34m\u001b[0m\u001b[0m\n\u001b[1;32m   1520\u001b[0m         \u001b[0;32mif\u001b[0m \u001b[0mdata\u001b[0m \u001b[0;32mis\u001b[0m \u001b[0;32mNone\u001b[0m\u001b[0;34m:\u001b[0m\u001b[0;34m\u001b[0m\u001b[0;34m\u001b[0m\u001b[0m\n\u001b[0;32m-> 1521\u001b[0;31m             return func(\n\u001b[0m\u001b[1;32m   1522\u001b[0m                 \u001b[0max\u001b[0m\u001b[0;34m,\u001b[0m\u001b[0;34m\u001b[0m\u001b[0;34m\u001b[0m\u001b[0m\n\u001b[1;32m   1523\u001b[0m                 \u001b[0;34m*\u001b[0m\u001b[0mmap\u001b[0m\u001b[0;34m(\u001b[0m\u001b[0mcbook\u001b[0m\u001b[0;34m.\u001b[0m\u001b[0msanitize_sequence\u001b[0m\u001b[0;34m,\u001b[0m \u001b[0margs\u001b[0m\u001b[0;34m)\u001b[0m\u001b[0;34m,\u001b[0m\u001b[0;34m\u001b[0m\u001b[0;34m\u001b[0m\u001b[0m\n",
            "\u001b[0;32m/usr/local/lib/python3.12/dist-packages/matplotlib/axes/_axes.py\u001b[0m in \u001b[0;36mscatter\u001b[0;34m(self, x, y, s, c, marker, cmap, norm, vmin, vmax, alpha, linewidths, edgecolors, colorizer, plotnonfinite, **kwargs)\u001b[0m\n\u001b[1;32m   4898\u001b[0m         \u001b[0my\u001b[0m \u001b[0;34m=\u001b[0m \u001b[0mnp\u001b[0m\u001b[0;34m.\u001b[0m\u001b[0mma\u001b[0m\u001b[0;34m.\u001b[0m\u001b[0mravel\u001b[0m\u001b[0;34m(\u001b[0m\u001b[0my\u001b[0m\u001b[0;34m)\u001b[0m\u001b[0;34m\u001b[0m\u001b[0;34m\u001b[0m\u001b[0m\n\u001b[1;32m   4899\u001b[0m         \u001b[0;32mif\u001b[0m \u001b[0mx\u001b[0m\u001b[0;34m.\u001b[0m\u001b[0msize\u001b[0m \u001b[0;34m!=\u001b[0m \u001b[0my\u001b[0m\u001b[0;34m.\u001b[0m\u001b[0msize\u001b[0m\u001b[0;34m:\u001b[0m\u001b[0;34m\u001b[0m\u001b[0;34m\u001b[0m\u001b[0m\n\u001b[0;32m-> 4900\u001b[0;31m             \u001b[0;32mraise\u001b[0m \u001b[0mValueError\u001b[0m\u001b[0;34m(\u001b[0m\u001b[0;34m\"x and y must be the same size\"\u001b[0m\u001b[0;34m)\u001b[0m\u001b[0;34m\u001b[0m\u001b[0;34m\u001b[0m\u001b[0m\n\u001b[0m\u001b[1;32m   4901\u001b[0m \u001b[0;34m\u001b[0m\u001b[0m\n\u001b[1;32m   4902\u001b[0m         \u001b[0;32mif\u001b[0m \u001b[0ms\u001b[0m \u001b[0;32mis\u001b[0m \u001b[0;32mNone\u001b[0m\u001b[0;34m:\u001b[0m\u001b[0;34m\u001b[0m\u001b[0;34m\u001b[0m\u001b[0m\n",
            "\u001b[0;31mValueError\u001b[0m: x and y must be the same size"
          ]
        },
        {
          "output_type": "display_data",
          "data": {
            "text/plain": [
              "<Figure size 1000x700 with 1 Axes>"
            ],
            "image/png": "[encoded data removed]"
          },
          "metadata": {}
        }
      ],
      "source": [
        "def Plot_densities(mu1, sigma1, mu2, sigma2, X, y):\n",
        "    '''\n",
        "    Trace les densités des lois normales N(mu1, sigma1) et N(mu2, sigma2) ainsi que les\n",
        "    échantillons X en fonction de leur classes y\n",
        "    :param mu1: moyenne de la loi 1\n",
        "    :param sigma1: écart-type de la loi 1\n",
        "    :param mu2: moyenne de la loi 2\n",
        "    :param sigma2: écart-type de la loi 2\n",
        "    :param X: 2d array contenant les m échantillons\n",
        "    :param y: 1d array contenant les classes associées aux m échantillons\n",
        "    :return: None\n",
        "    '''\n",
        "    figScatter = plt.figure(figsize=(10,7))\n",
        "    ax = figScatter.add_subplot(1,1,1)\n",
        "    xx = np.linspace(mu1 - 4*sigma1, mu2 + 4*sigma2, 100)\n",
        "    #Tracé des densité théoriques\n",
        "    density1 = (1-p)*stats.norm.pdf(xx, mu1, sigma1)\n",
        "    density2 = p/2 * stats.norm.pdf(xx, mu2, sigma2)\n",
        "    ax.plot(xx, density1, color='deepskyblue', linewidth = 1.5)\n",
        "    ax.plot(xx, density2, color='red', linewidth = 1.5)\n",
        "    ax.axhline(0,color='black')\n",
        "    #Tracé des échantillons par classe\n",
        "    ax.scatter(X[np.where(y==1),0].tolist(), [0]*n1, color='deepskyblue', marker='.', label='Class 1',s=200)\n",
        "    ax.scatter(X[np.where(y==2),0].tolist(), [0]*n2, color='red', marker='.', label='Class 2',s=200)\n",
        "    #Legendes\n",
        "    ax.legend(fontsize=20, loc='upper left')\n",
        "    ax.set_xlabel(\"Température\",fontsize=20)\n",
        "    ax.set_ylabel(\"Fonction de densité\",fontsize=20)\n",
        "    ax.tick_params(axis='x', labelsize=20)\n",
        "    ax.tick_params(axis='y', labelsize=20)\n",
        "    ax.set(xlim=(np.min(xx), np.max(xx)))\n",
        "    ax.set(ylim=(-0.1, np.maximum(np.max(density1),np.max(density2))+0.1))\n",
        "\n",
        "Plot_densities(mu1, sigma1, mu2, sigma2, X, y)"
      ]
    },
    {
      "cell_type": "markdown",
      "metadata": {
        "id": "1lLjF_Ioe_dl"
      },
      "source": [
        "- **Facultatif** : Modifiez la fonction Plot_densities pour qu'elle prenne en compte les distributions à priori $\\mathbb{P}(Y_i = 1)=1-p$ et $\\mathbb{P}(Y_i = 2)=p$"
      ]
    },
    {
      "cell_type": "markdown",
      "metadata": {
        "id": "2a9kUTFIe_dl"
      },
      "source": [
        "### Question 2 : Classifieur de Bayes théorique\n",
        "\n",
        "L'objectif de cette question est maintenant de déterminer le classifieur de Bayes théorique, c'est à dire le classifieur optimal qui diagnostiquera au mieux les patients de la classe 1 et de la classe 2 lorsque les paramètres $p, \\mu_1, \\mu_2, \\sigma_1, \\sigma_2$ sont connus.  \n",
        "\n",
        "1. Determiner une regle de décision permettant de diagnostiquer au mieux les patients sains ainsi que les patients malades en fonction de la température. Écrire analytiquement cette règle de décision.\n",
        "2. Implémenter une fonction calculant ce classifieur de Bayes théorique et appliquer ensuite ce classifieur sur la base d'apprentissage générée dans la question précédente. Calculer ensuite le taux d'erreur global ainsi que les taux d'erreurs par classe obtenus par ce classifieur de Bayes théorique.\n",
        "\n",
        "\n",
        "- **Réponse à la Question 2.**\n",
        "\n",
        "    1. ..."
      ]
    },
    {
      "cell_type": "code",
      "execution_count": 40,
      "metadata": {
        "id": "ldJwIOCwe_dl"
      },
      "outputs": [],
      "source": [
        "# RÉPONSE À LA QUESTION 2.2:\n",
        "def Bayes_Classifier(x, mu1, sigma1, mu2, sigma2, p):\n",
        "\n",
        "#x: vector aui contient les temperqture de n patients a diagnostiquer\n",
        "\n",
        "  n = X.shape[0]\n",
        "  Y_pred = np.zeros(n)\n",
        "\n",
        "  for i in range(n):\n",
        "    f1 = 1/(sigma1*np.sqrt(2*np.pi))*np.exp(-(x[i]-mu1)**2/(2*sigma1**2))\n",
        "    f2 = 1/(sigma2*np.sqrt(2*np.pi))*np.exp(-(x[i]-mu2)**2/(2*sigma2**2))\n",
        "\n",
        "    PY1_Xi = (1-p)*f1/((1-p)*f1 + p*f2)\n",
        "    PY2_Xi = p*f2/((1-p)*f1 + p*f2)\n",
        "\n",
        "    Y_pred[i] = np.argmax([PY1_Xi, PY2_Xi]) + 1\n",
        "\n",
        "  return Y_pred"
      ]
    },
    {
      "cell_type": "code",
      "source": [
        "Y_pred = Bayes_Classifier(X, mu1, sigma1, mu2, sigma2, p)\n",
        "n = X.shape[0]\n",
        "erreur = 1/n * np.sum(Y_pred != y)\n",
        "print(\"Taux d'erreur: \", erreur)"
      ],
      "metadata": {
        "colab": {
          "base_uri": "https://localhost:8080/"
        },
        "id": "Vccx_dLdwC_f",
        "outputId": "bcbb5d3c-c336-4f43-b692-92b2448a4ecb"
      },
      "execution_count": 43,
      "outputs": [
        {
          "output_type": "stream",
          "name": "stdout",
          "text": [
            "Taux d'erreur:  33.8\n"
          ]
        }
      ]
    },
    {
      "cell_type": "markdown",
      "metadata": {
        "id": "81VzrCxfe_dm"
      },
      "source": [
        "### Question 3 : Classifieur de Bayes Empirique\n",
        "\n",
        "Rappelons que l'objectif de la première question était de générer une base de données à partir de distributions connues. Ensuite, l'objectif de la question 2 était de déterminer le classifieur de Bayes théorique (le classifieur optimal par rapport aux densités de probabilités issues de la question 1).\n",
        "\n",
        "En pratique dans la vraie vie, nous diposons seulement des observations issues de la base d'apprentissage, mais nous n'avons en général aucune connaissance concernant les densités de probabilités dans chaque classe. À partir de cette base d'apprentissage l'objectif est alors d'apprendre un classifieur qui convergera vers le classifieur de Bayes optimal.\n",
        "\n",
        "Pour cette question, nous supposons donc maintenant que nous disposons seulement de notre base d'apprentissage (températures des 100 patients ainsi que leur classe) générée lors de la question 1.\n",
        "Nous supposons également que la probabilité à priori $p$ ainsi que les densités $f_1(x)$, $f_2(x)$ sont toutes maintenant inconnues. Nous supposerons tout de même que la loi de $X$ est une Gaussienne dans chaque classe, mais que\n",
        "les paramètres $p, \\mu_1, \\mu_2, \\sigma_1, \\sigma_2$ sont maintenant inconnus.\n",
        "\n",
        "\n",
        "1. Comment procèderiez-vous pour apprendre une regle de décision permettant de diagnostiquer au mieux les patients sains ainsi que les patients malades en fonction de la température et en essayant d'approximer le classifieur de Bayes ?\n",
        "\n",
        "2. Implémenter une fonction apprenant ce classifieur sur la base d'apprentissage générée dans la question 1. Calculer ensuite le taux d'erreur global ainsi que les taux d'erreurs par classe obtenus par ce nouveau classifieur et comparer les résultats avec ceux obtenus par le classifieur de Bayes théorique.\n",
        "\n",
        "3. Générer une base de données test (de façon similaire à la question 1) contenant 1000 observations (800 dans la classe 1 et 200 dans la classe 2). Comparer ensuite les performances du classifieur de Bayes théorique et du classifieur de Bayes empirique sur cette nouvelle base de données test.\n",
        "\n",
        "\n",
        "- **Réponse à la Question 3.1**\n",
        "\n",
        "    1. ...\n",
        "\n",
        "         "
      ]
    },
    {
      "cell_type": "code",
      "execution_count": 48,
      "metadata": {
        "id": "O-fxi_QGe_dm"
      },
      "outputs": [],
      "source": [
        "# RÉPONSE À LA QUESTION 3.2:\n",
        "\n",
        "def Bayes_Rule_empirical(Xtrain,Xtest,Ytrain):\n",
        "\n",
        "  #On estime les parametres\n",
        "  mu1_hat = np.mean(Xtrain[np.where(Ytrain==1),0])\n",
        "  mu2_hat = np.mean(Xtrain[np.where(Ytrain==2),0])\n",
        "  sigma1_hat = np.std(Xtrain[np.where(Ytrain==1),0])\n",
        "  sigma2_hat = np.std(Xtrain[np.where(Ytrain==2),0])\n",
        "  p_hat = np.mean(Ytrain==2)\n",
        "\n",
        "  #On aplique le meme raisonment qu' avec le classifeur theorique\n",
        "  n = Xtest.shape[0]\n",
        "  Y_pred = np.zeros(n)\n",
        "\n",
        "  for i in range(n):\n",
        "    f1 = 1/(sigma1_hat*np.sqrt(2*np.pi))*np.exp(-(Xtest[i]-mu1_hat)**2/(2*sigma1_hat**2))\n",
        "    f2 = 1/(sigma2_hat*np.sqrt(2*np.pi))*np.exp(-(Xtest[i]-mu2_hat)**2/(2*sigma2_hat**2))\n",
        "\n",
        "    PY1_Xi = (1-p)*f1/((1-p)*f1 + p*f2)\n",
        "    PY2_Xi = p*f2/((1-p)*f1 + p*f2)\n",
        "\n",
        "    Y_pred[i] = np.argmax([PY1_Xi, PY2_Xi]) + 1\n",
        "\n",
        "  return Y_pred"
      ]
    },
    {
      "cell_type": "code",
      "execution_count": null,
      "metadata": {
        "id": "_ZeKM2TEe_dm"
      },
      "outputs": [],
      "source": [
        "# RÉPONSE À LA QUESTION 3.3:\n",
        "\n",
        "\n"
      ]
    }
  ],
  "metadata": {
    "kernelspec": {
      "display_name": "Python 3 (ipykernel)",
      "language": "python",
      "name": "python3"
    },
    "language_info": {
      "codemirror_mode": {
        "name": "ipython",
        "version": 3
      },
      "file_extension": ".py",
      "mimetype": "text/x-python",
      "name": "python",
      "nbconvert_exporter": "python",
      "pygments_lexer": "ipython3",
      "version": "3.11.4"
    },
    "colab": {
      "provenance": [],
      "include_colab_link": true
    }
  },
  "nbformat": 4,
  "nbformat_minor": 0
}